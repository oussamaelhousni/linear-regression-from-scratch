{
 "cells": [
  {
   "cell_type": "code",
   "execution_count": 37,
   "id": "744f70df",
   "metadata": {},
   "outputs": [],
   "source": [
    "import numpy as np\n",
    "import matplotlib.pyplot as plt"
   ]
  },
  {
   "cell_type": "code",
   "execution_count": 20,
   "id": "fc97b872",
   "metadata": {},
   "outputs": [],
   "source": [
    "class LinearRegression():\n",
    "    def __init__(self,learning_rate=0.1,n_iterations=100):\n",
    "        self.learning_rate = learning_rate\n",
    "        self.n_iterations = n_iterations\n",
    "        self.weights = None\n",
    "    \n",
    "    def fit(self,X_train,y_train):\n",
    "        m ,n = X_train.shape\n",
    "        ones = np.ones((m,1))\n",
    "        X_new = np.concatenate((ones,X),axis=1)\n",
    "        self.weights = np.random.randn(n+1,1)\n",
    "        for i in range(self.n_iterations):\n",
    "            dw = (2/m)*X_new.T.dot(X_new.dot(self.weights)-y_train)\n",
    "            self.weights = self.weights -self.learning_rate * dw\n",
    "        \n",
    "    def predict(self,X):\n",
    "        m = X.shape[0]\n",
    "        ones = np.ones((m,1))\n",
    "        X_new = np.concatenate((ones,X),axis=1)\n",
    "        return np.dot(X_new,self.weights)\n",
    "        "
   ]
  },
  {
   "cell_type": "code",
   "execution_count": 44,
   "id": "6e2be12e",
   "metadata": {},
   "outputs": [],
   "source": [
    "X = np.random.randn(50,1)\n",
    "Y = 2 * X + 6 + np.random.randn(50,1)"
   ]
  },
  {
   "cell_type": "code",
   "execution_count": 46,
   "id": "cad67c90",
   "metadata": {},
   "outputs": [],
   "source": [
    "reg = LinearRegression()"
   ]
  },
  {
   "cell_type": "code",
   "execution_count": 47,
   "id": "8d8d3af4",
   "metadata": {},
   "outputs": [
    {
     "data": {
      "text/plain": [
       "True"
      ]
     },
     "execution_count": 47,
     "metadata": {},
     "output_type": "execute_result"
    }
   ],
   "source": [
    "reg.weights == None"
   ]
  },
  {
   "cell_type": "code",
   "execution_count": 48,
   "id": "a52f27dd",
   "metadata": {},
   "outputs": [],
   "source": [
    "reg.fit(X,Y)"
   ]
  },
  {
   "cell_type": "code",
   "execution_count": 49,
   "id": "499be2fa",
   "metadata": {},
   "outputs": [
    {
     "data": {
      "text/plain": [
       "array([[6.26396451],\n",
       "       [2.04500083]])"
      ]
     },
     "execution_count": 49,
     "metadata": {},
     "output_type": "execute_result"
    }
   ],
   "source": [
    "reg.weights"
   ]
  },
  {
   "cell_type": "code",
   "execution_count": 11,
   "id": "5ff5c811",
   "metadata": {},
   "outputs": [
    {
     "data": {
      "text/plain": [
       "array([[ 1.        ,  0.72737244, -0.5240227 , -1.09296614],\n",
       "       [ 1.        , -0.31490724,  0.59319051, -1.0267472 ],\n",
       "       [ 1.        ,  0.45820123, -0.12607399,  0.39985931]])"
      ]
     },
     "execution_count": 11,
     "metadata": {},
     "output_type": "execute_result"
    }
   ],
   "source": [
    "np.concatenate((ones,X),axis=1)"
   ]
  },
  {
   "cell_type": "code",
   "execution_count": 51,
   "id": "5ff0c472",
   "metadata": {},
   "outputs": [
    {
     "data": {
      "text/plain": [
       "[<matplotlib.lines.Line2D at 0x261ba493890>]"
      ]
     },
     "execution_count": 51,
     "metadata": {},
     "output_type": "execute_result"
    },
    {
     "data": {
      "image/png": "[encoded data removed]",
      "text/plain": [
       "<Figure size 640x480 with 1 Axes>"
      ]
     },
     "metadata": {},
     "output_type": "display_data"
    }
   ],
   "source": [
    "plt.scatter(X,Y)\n",
    "plt.plot(X,reg.predict(X))"
   ]
  },
  {
   "cell_type": "code",
   "execution_count": null,
   "id": "490e5041",
   "metadata": {},
   "outputs": [],
   "source": []
  }
 ],
 "metadata": {
  "kernelspec": {
   "display_name": "Python 3 (ipykernel)",
   "language": "python",
   "name": "python3"
  },
  "language_info": {
   "codemirror_mode": {
    "name": "ipython",
    "version": 3
   },
   "file_extension": ".py",
   "mimetype": "text/x-python",
   "name": "python",
   "nbconvert_exporter": "python",
   "pygments_lexer": "ipython3",
   "version": "3.11.2"
  }
 },
 "nbformat": 4,
 "nbformat_minor": 5
}
